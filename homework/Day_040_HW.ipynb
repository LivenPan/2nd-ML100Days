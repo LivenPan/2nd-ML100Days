{
 "cells": [
  {
   "cell_type": "markdown",
   "metadata": {},
   "source": [
    "## [作業重點]\n",
    "使用 Sklearn 中的 Lasso, Ridge 模型，來訓練各種資料集，務必了解送進去模型訓練的**資料型態**為何，也請了解模型中各項參數的意義。\n",
    "\n",
    "機器學習的模型非常多種，但要訓練的資料多半有固定的格式，確保你了解訓練資料的格式為何，這樣在應用新模型時，就能夠最快的上手開始訓練！"
   ]
  },
  {
   "cell_type": "markdown",
   "metadata": {},
   "source": [
    "## 練習時間\n",
    "試著使用 sklearn datasets 的其他資料集 (boston, ...)，來訓練自己的線性迴歸模型，並加上適當的正則話來觀察訓練情形。"
   ]
  },
  {
   "cell_type": "code",
   "execution_count": 1,
   "metadata": {},
   "outputs": [],
   "source": [
    "import numpy as np\n",
    "import matplotlib.pyplot as plt\n",
    "from sklearn import datasets, linear_model\n",
    "from sklearn.model_selection import train_test_split\n",
    "from sklearn.metrics import mean_squared_error, r2_score"
   ]
  },
  {
   "cell_type": "code",
   "execution_count": 2,
   "metadata": {},
   "outputs": [
    {
     "name": "stdout",
     "output_type": "stream",
     "text": [
      "[-1.14191538e-01  4.74478726e-02 -4.28228389e-03  2.99469488e+00\n",
      " -1.34263024e+01  3.89473335e+00 -1.33872007e-02 -1.48751294e+00\n",
      "  2.85627378e-01 -1.36705572e-02 -8.73410687e-01  8.96663130e-03\n",
      " -4.63101674e-01]\n",
      "Mean squared error: 25.48\n",
      "[-0.10618872  0.04886351 -0.04536655  1.14953069 -0.          3.82353877\n",
      " -0.02089779 -1.23590613  0.26008876 -0.01517094 -0.74673362  0.00963864\n",
      " -0.49877104]\n",
      "Mean squared error: 26.45\n",
      "[-0.06494981  0.04581458 -0.          0.         -0.          1.18140024\n",
      "  0.01109101 -0.73695809  0.23350042 -0.01551065 -0.69270805  0.00763157\n",
      " -0.6927848 ]\n",
      "Mean squared error: 28.95\n",
      "[-0.          0.01832072 -0.          0.          0.          0.\n",
      "  0.         -0.          0.         -0.01151799 -0.          0.00615268\n",
      " -0.52036911]\n",
      "Mean squared error: 47.63\n",
      "[-0.          0.         -0.          0.         -0.          0.\n",
      " -0.          0.         -0.         -0.02267029 -0.          0.00197791\n",
      " -0.        ]\n",
      "Mean squared error: 81.65\n"
     ]
    }
   ],
   "source": [
    "# Boston Dataset\n",
    "boston = datasets.load_boston()\n",
    "\n",
    "# 切分訓練集/測試集\n",
    "x_train, x_test, y_train, y_test = train_test_split(boston.data, boston.target, test_size=0.2, random_state=4)\n",
    "\n",
    "# 測試不同alpha值\n",
    "aa = [0.01, 0.1, 1.0, 10, 100]\n",
    "\n",
    "for a in aa:\n",
    "    # 建立一個Lasso模型\n",
    "    lasso = linear_model.Lasso(alpha=a)\n",
    "\n",
    "    # 將訓練資料丟進去模型訓練\n",
    "    lasso.fit(x_train, y_train)\n",
    "\n",
    "    # 將測試資料丟進模型得到預測結果\n",
    "    y_pred = lasso.predict(x_test)\n",
    "    \n",
    "    # 印出各特徵對應的係數，可以看到許多係數都變成 0，Lasso Regression 的確可以做特徵選取\n",
    "    print(lasso.coef_)\n",
    "    \n",
    "    # 預測值與實際值的差距，使用 MSE\n",
    "    print(\"Mean squared error: %.2f\" % mean_squared_error(y_test, y_pred))"
   ]
  },
  {
   "cell_type": "code",
   "execution_count": 3,
   "metadata": {},
   "outputs": [
    {
     "name": "stdout",
     "output_type": "stream",
     "text": [
      "[-1.15903710e-01  4.71385038e-02  7.68301683e-03  3.23010232e+00\n",
      " -1.65565653e+01  3.88517536e+00 -1.10150771e-02 -1.53938924e+00\n",
      "  2.92878123e-01 -1.34139930e-02 -9.04944492e-01  8.81441567e-03\n",
      " -4.57856571e-01]\n",
      "Mean squared error: 25.42\n",
      "[-1.15381303e-01  4.72528249e-02  2.87371589e-03  3.19642306e+00\n",
      " -1.54713824e+01  3.89388927e+00 -1.19943742e-02 -1.52347878e+00\n",
      "  2.90133016e-01 -1.34816989e-02 -8.93679905e-01  8.86599187e-03\n",
      " -4.58983115e-01]\n",
      "Mean squared error: 25.46\n",
      "[-1.12499445e-01  4.79562332e-02 -2.40438147e-02  2.96199458e+00\n",
      " -9.33966118e+00  3.93079015e+00 -1.73821202e-02 -1.43347691e+00\n",
      "  2.75239392e-01 -1.38920708e-02 -8.31116943e-01  9.15637729e-03\n",
      " -4.66460539e-01]\n",
      "Mean squared error: 25.74\n",
      "[-0.10983294  0.049805   -0.05382756  2.06396836 -1.86500987  3.73850198\n",
      " -0.02135944 -1.32033911  0.2667507  -0.01481666 -0.77176853  0.00945631\n",
      " -0.49564775]\n",
      "Mean squared error: 26.24\n",
      "[-0.10763397  0.05372159 -0.05747993  0.60034259 -0.19610981  2.21912389\n",
      " -0.00637912 -1.19515097  0.29907624 -0.01644862 -0.80880248  0.00878369\n",
      " -0.61287022]\n",
      "Mean squared error: 26.70\n"
     ]
    }
   ],
   "source": [
    "for a in aa:\n",
    "    # 建立一個Ridge模型\n",
    "    ridge = linear_model.Ridge(alpha=a)\n",
    "\n",
    "    # 將訓練資料丟進去模型訓練\n",
    "    ridge.fit(x_train, y_train)\n",
    "\n",
    "    # 將測試資料丟進模型得到預測結果\n",
    "    y_pred = ridge.predict(x_test)\n",
    "\n",
    "    # 印出 Ridge 的參數，可以很明顯看到比起 Linear Regression，參數的數值都明顯小了許多\n",
    "    print(ridge.coef_)\n",
    "\n",
    "    # 預測值與實際值的差距，使用 MSE\n",
    "    print(\"Mean squared error: %.2f\" % mean_squared_error(y_test, y_pred))"
   ]
  },
  {
   "cell_type": "markdown",
   "metadata": {},
   "source": [
    "#### 係數會接近0但是不會等於0"
   ]
  },
  {
   "cell_type": "code",
   "execution_count": 4,
   "metadata": {},
   "outputs": [
    {
     "name": "stdout",
     "output_type": "stream",
     "text": [
      "[-7.36659501e-02  1.35427903e-02 -3.11463370e-02  3.58846929e-02\n",
      "  1.11821515e-04  0.00000000e+00 -2.72943686e-01 -0.00000000e+00\n",
      "  0.00000000e+00  8.31946942e-02 -0.00000000e+00 -2.37874023e-01\n",
      " -8.94890351e-04]\n",
      "Mean squared error: 0.07\n",
      "[-0.00000000e+00  0.00000000e+00 -0.00000000e+00  3.11003765e-02\n",
      "  1.66568969e-04 -0.00000000e+00 -2.76524348e-01  0.00000000e+00\n",
      " -0.00000000e+00  9.33441102e-02 -0.00000000e+00 -1.99489077e-02\n",
      " -1.23750027e-03]\n",
      "Mean squared error: 0.10\n",
      "[ 0.          0.          0.          0.          0.         -0.\n",
      " -0.          0.         -0.          0.         -0.         -0.\n",
      " -0.00159714]\n",
      "Mean squared error: 0.42\n",
      "[ 0.          0.          0.          0.          0.         -0.\n",
      " -0.          0.         -0.          0.         -0.         -0.\n",
      " -0.00149977]\n",
      "Mean squared error: 0.42\n",
      "[-0.          0.         -0.          0.         -0.         -0.\n",
      " -0.          0.         -0.          0.         -0.         -0.\n",
      " -0.00052605]\n",
      "Mean squared error: 0.52\n"
     ]
    }
   ],
   "source": [
    "# Wine Dataset\n",
    "wine = datasets.load_wine()\n",
    "\n",
    "# 切分訓練集/測試集\n",
    "x_train, x_test, y_train, y_test = train_test_split(wine.data, wine.target, test_size=0.2, random_state=4)\n",
    "\n",
    "for a in aa:\n",
    "    # 建立一個Lasso模型\n",
    "    lasso = linear_model.Lasso(alpha=a)\n",
    "\n",
    "    # 將訓練資料丟進去模型訓練\n",
    "    lasso.fit(x_train, y_train)\n",
    "\n",
    "    # 將測試資料丟進模型得到預測結果\n",
    "    y_pred = lasso.predict(x_test)\n",
    "\n",
    "    # 印出各特徵對應的係數，可以看到許多係數都變成 0，Lasso Regression 的確可以做特徵選取\n",
    "    print(lasso.coef_)\n",
    "\n",
    "    # 預測值與實際值的差距，使用 MSE\n",
    "    print(\"Mean squared error: %.2f\" % mean_squared_error(y_test, y_pred))"
   ]
  },
  {
   "cell_type": "markdown",
   "metadata": {},
   "source": [
    "#### alpha值設太大時，就會出現underfitting的情況，所有係數都變成0"
   ]
  },
  {
   "cell_type": "code",
   "execution_count": 5,
   "metadata": {},
   "outputs": [
    {
     "name": "stdout",
     "output_type": "stream",
     "text": [
      "[-1.09055901e-01  1.67435834e-02 -2.18649079e-01  4.66645637e-02\n",
      "  3.23024885e-04  1.24181625e-01 -3.25997782e-01 -1.89734429e-01\n",
      "  3.71681807e-02  7.57615981e-02 -1.55792902e-01 -2.85797766e-01\n",
      " -7.51992349e-04]\n",
      "Mean squared error: 0.07\n",
      "[-0.10868129  0.0167836  -0.21758328  0.04652221  0.00034174  0.12146469\n",
      " -0.32432992 -0.17652621  0.03688698  0.07593367 -0.15402058 -0.28450558\n",
      " -0.00075365]\n",
      "Mean squared error: 0.07\n",
      "[-0.1060308   0.01767173 -0.20185208  0.04519307  0.00041456  0.09901609\n",
      " -0.31237143 -0.1038379   0.03489971  0.07770768 -0.13450626 -0.27442063\n",
      " -0.00077001]\n",
      "Mean squared error: 0.07\n",
      "[-0.09101304  0.02399141 -0.1064664   0.0396002   0.00034535  0.00180742\n",
      " -0.26003806 -0.01195908  0.01538726  0.08656986 -0.06235294 -0.22360622\n",
      " -0.00087038]\n",
      "Mean squared error: 0.07\n",
      "[-0.03216894  0.0356036  -0.02204152  0.03729371  0.00021356 -0.05883592\n",
      " -0.14920789  0.00610203 -0.02897057  0.09498249 -0.02171125 -0.11606981\n",
      " -0.00117467]\n",
      "Mean squared error: 0.10\n"
     ]
    }
   ],
   "source": [
    "for a in aa:\n",
    "    # 建立一個Ridge模型\n",
    "    ridge = linear_model.Ridge(alpha=a)\n",
    "\n",
    "    # 將訓練資料丟進去模型訓練\n",
    "    ridge.fit(x_train, y_train)\n",
    "\n",
    "    # 將測試資料丟進模型得到預測結果\n",
    "    y_pred = ridge.predict(x_test)\n",
    "\n",
    "    # 印出 Ridge 的參數，可以很明顯看到比起 Linear Regression，參數的數值都明顯小了許多\n",
    "    print(ridge.coef_)\n",
    "\n",
    "    # 預測值與實際值的差距，使用 MSE\n",
    "    print(\"Mean squared error: %.2f\" % mean_squared_error(y_test, y_pred))"
   ]
  }
 ],
 "metadata": {
  "kernelspec": {
   "display_name": "Python 3",
   "language": "python",
   "name": "python3"
  },
  "language_info": {
   "codemirror_mode": {
    "name": "ipython",
    "version": 3
   },
   "file_extension": ".py",
   "mimetype": "text/x-python",
   "name": "python",
   "nbconvert_exporter": "python",
   "pygments_lexer": "ipython3",
   "version": "3.7.3"
  }
 },
 "nbformat": 4,
 "nbformat_minor": 2
}
